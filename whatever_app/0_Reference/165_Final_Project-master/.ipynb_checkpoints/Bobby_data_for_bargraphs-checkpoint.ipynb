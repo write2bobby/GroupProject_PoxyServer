{
 "cells": [
  {
   "cell_type": "code",
   "execution_count": 1,
   "metadata": {},
   "outputs": [
    {
     "data": {
      "text/html": [
       "<div>\n",
       "<style scoped>\n",
       "    .dataframe tbody tr th:only-of-type {\n",
       "        vertical-align: middle;\n",
       "    }\n",
       "\n",
       "    .dataframe tbody tr th {\n",
       "        vertical-align: top;\n",
       "    }\n",
       "\n",
       "    .dataframe thead th {\n",
       "        text-align: right;\n",
       "    }\n",
       "</style>\n",
       "<table border=\"1\" class=\"dataframe\">\n",
       "  <thead>\n",
       "    <tr style=\"text-align: right;\">\n",
       "      <th></th>\n",
       "      <th>state_name</th>\n",
       "      <th>year</th>\n",
       "      <th>disease</th>\n",
       "      <th>cases</th>\n",
       "    </tr>\n",
       "  </thead>\n",
       "  <tbody>\n",
       "    <tr>\n",
       "      <th>0</th>\n",
       "      <td>ALABAMA</td>\n",
       "      <td>1928</td>\n",
       "      <td>MEASLES</td>\n",
       "      <td>8843</td>\n",
       "    </tr>\n",
       "    <tr>\n",
       "      <th>1</th>\n",
       "      <td>ALABAMA</td>\n",
       "      <td>1929</td>\n",
       "      <td>MEASLES</td>\n",
       "      <td>2959</td>\n",
       "    </tr>\n",
       "    <tr>\n",
       "      <th>2</th>\n",
       "      <td>ALABAMA</td>\n",
       "      <td>1930</td>\n",
       "      <td>MEASLES</td>\n",
       "      <td>4156</td>\n",
       "    </tr>\n",
       "    <tr>\n",
       "      <th>3</th>\n",
       "      <td>ALABAMA</td>\n",
       "      <td>1931</td>\n",
       "      <td>MEASLES</td>\n",
       "      <td>8934</td>\n",
       "    </tr>\n",
       "    <tr>\n",
       "      <th>4</th>\n",
       "      <td>ALABAMA</td>\n",
       "      <td>1932</td>\n",
       "      <td>MEASLES</td>\n",
       "      <td>270</td>\n",
       "    </tr>\n",
       "  </tbody>\n",
       "</table>\n",
       "</div>"
      ],
      "text/plain": [
       "  state_name  year  disease  cases\n",
       "0    ALABAMA  1928  MEASLES   8843\n",
       "1    ALABAMA  1929  MEASLES   2959\n",
       "2    ALABAMA  1930  MEASLES   4156\n",
       "3    ALABAMA  1931  MEASLES   8934\n",
       "4    ALABAMA  1932  MEASLES    270"
      ]
     },
     "execution_count": 1,
     "metadata": {},
     "output_type": "execute_result"
    }
   ],
   "source": [
    "# Dependencies and Setup\n",
    "import pandas as pd\n",
    "import numpy as np\n",
    "import matplotlib.pyplot as plt\n",
    "%matplotlib inline\n",
    "# Incorporate Seaborn if preferred \n",
    "import seaborn as sns\n",
    "import json\n",
    "\n",
    "\n",
    "# File to Load (Remember to Change These)\n",
    "Cases_PerCapita_PerYear_Concat = \"C:/Users/beatl/Desktop/GroupProject_PoxyServer/1_Input/inputData/mergedLists/CasesPerCapitaPerYearConcat.csv\"\n",
    "Cases_Total_PerYear_Concat = \"C:/Users/beatl/Desktop/GroupProject_PoxyServer/1_Input/inputData/mergedLists/CasesTotalPerYearConcat.csv\"\n",
    "# Read diseases data and store into Pandas Data Frames\n",
    "cases_PerCapita_data = pd.read_csv(Cases_PerCapita_PerYear_Concat)\n",
    "cases_Total_data = pd.read_csv(Cases_Total_PerYear_Concat)\n",
    "\n",
    "# Combine the data into a single dataset\n",
    "cases_PerCapita_data.head()\n",
    "cases_Total_data.head()"
   ]
  },
  {
   "cell_type": "code",
   "execution_count": 2,
   "metadata": {},
   "outputs": [],
   "source": [
    "# Combine the data into a single dataset\n",
    "cases_complete = pd.merge(cases_PerCapita_data, cases_Total_data, how=\"left\", on=[\"state_name\", \"year\", \"disease\" ])"
   ]
  },
  {
   "cell_type": "code",
   "execution_count": 3,
   "metadata": {},
   "outputs": [
    {
     "data": {
      "text/html": [
       "<div>\n",
       "<style scoped>\n",
       "    .dataframe tbody tr th:only-of-type {\n",
       "        vertical-align: middle;\n",
       "    }\n",
       "\n",
       "    .dataframe tbody tr th {\n",
       "        vertical-align: top;\n",
       "    }\n",
       "\n",
       "    .dataframe thead th {\n",
       "        text-align: right;\n",
       "    }\n",
       "</style>\n",
       "<table border=\"1\" class=\"dataframe\">\n",
       "  <thead>\n",
       "    <tr style=\"text-align: right;\">\n",
       "      <th></th>\n",
       "      <th>state_name</th>\n",
       "      <th>year</th>\n",
       "      <th>disease</th>\n",
       "      <th>incidence_per_capita</th>\n",
       "      <th>cases</th>\n",
       "    </tr>\n",
       "  </thead>\n",
       "  <tbody>\n",
       "    <tr>\n",
       "      <th>0</th>\n",
       "      <td>ALABAMA</td>\n",
       "      <td>1928</td>\n",
       "      <td>MEASLES</td>\n",
       "      <td>6.442115</td>\n",
       "      <td>8843</td>\n",
       "    </tr>\n",
       "    <tr>\n",
       "      <th>1</th>\n",
       "      <td>ALABAMA</td>\n",
       "      <td>1929</td>\n",
       "      <td>MEASLES</td>\n",
       "      <td>2.284286</td>\n",
       "      <td>2959</td>\n",
       "    </tr>\n",
       "    <tr>\n",
       "      <th>2</th>\n",
       "      <td>ALABAMA</td>\n",
       "      <td>1930</td>\n",
       "      <td>MEASLES</td>\n",
       "      <td>3.019231</td>\n",
       "      <td>4156</td>\n",
       "    </tr>\n",
       "    <tr>\n",
       "      <th>3</th>\n",
       "      <td>ALABAMA</td>\n",
       "      <td>1931</td>\n",
       "      <td>MEASLES</td>\n",
       "      <td>6.883469</td>\n",
       "      <td>8934</td>\n",
       "    </tr>\n",
       "    <tr>\n",
       "      <th>4</th>\n",
       "      <td>ALABAMA</td>\n",
       "      <td>1932</td>\n",
       "      <td>MEASLES</td>\n",
       "      <td>0.249024</td>\n",
       "      <td>270</td>\n",
       "    </tr>\n",
       "  </tbody>\n",
       "</table>\n",
       "</div>"
      ],
      "text/plain": [
       "  state_name  year  disease  incidence_per_capita  cases\n",
       "0    ALABAMA  1928  MEASLES              6.442115   8843\n",
       "1    ALABAMA  1929  MEASLES              2.284286   2959\n",
       "2    ALABAMA  1930  MEASLES              3.019231   4156\n",
       "3    ALABAMA  1931  MEASLES              6.883469   8934\n",
       "4    ALABAMA  1932  MEASLES              0.249024    270"
      ]
     },
     "execution_count": 3,
     "metadata": {},
     "output_type": "execute_result"
    }
   ],
   "source": [
    "cases_complete.head()"
   ]
  },
  {
   "cell_type": "code",
   "execution_count": 4,
   "metadata": {},
   "outputs": [],
   "source": [
    "df = pd.DataFrame(cases_complete, columns = ['state_name', 'year', 'disease', 'incidence_per_capita', 'cases'])"
   ]
  },
  {
   "cell_type": "code",
   "execution_count": 5,
   "metadata": {},
   "outputs": [
    {
     "data": {
      "text/plain": [
       "array([[<matplotlib.axes._subplots.AxesSubplot object at 0x00000223888C0780>,\n",
       "        <matplotlib.axes._subplots.AxesSubplot object at 0x0000022388B8C198>],\n",
       "       [<matplotlib.axes._subplots.AxesSubplot object at 0x0000022388BB1828>,\n",
       "        <matplotlib.axes._subplots.AxesSubplot object at 0x0000022388BDBE48>]],\n",
       "      dtype=object)"
      ]
     },
     "execution_count": 5,
     "metadata": {},
     "output_type": "execute_result"
    },
    {
     "data": {
      "image/png": "[encoded data removed]",
      "text/plain": [
       "<Figure size 432x288 with 4 Axes>"
      ]
     },
     "metadata": {
      "needs_background": "light"
     },
     "output_type": "display_data"
    }
   ],
   "source": [
    "df.hist()"
   ]
  },
  {
   "cell_type": "code",
   "execution_count": 6,
   "metadata": {},
   "outputs": [],
   "source": [
    "x = df.to_json(orient='table')[1:-1].replace('},{', '} {')"
   ]
  },
  {
   "cell_type": "code",
   "execution_count": 7,
   "metadata": {},
   "outputs": [],
   "source": [
    "data = json.dumps(x)"
   ]
  },
  {
   "cell_type": "code",
   "execution_count": 8,
   "metadata": {},
   "outputs": [],
   "source": [
    "data = json.loads(data)"
   ]
  },
  {
   "cell_type": "code",
   "execution_count": 16,
   "metadata": {},
   "outputs": [
    {
     "data": {
      "image/png": "[encoded data removed]",
      "text/plain": [
       "<Figure size 432x288 with 1 Axes>"
      ]
     },
     "metadata": {
      "needs_background": "light"
     },
     "output_type": "display_data"
    }
   ],
   "source": [
    "z = df.plot(x='state_name', y='cases', kind=\"bar\", facecolor=\"red\")"
   ]
  },
  {
   "cell_type": "code",
   "execution_count": 17,
   "metadata": {},
   "outputs": [],
   "source": [
    "plt.show(z)"
   ]
  },
  {
   "cell_type": "code",
   "execution_count": null,
   "metadata": {},
   "outputs": [],
   "source": []
  }
 ],
 "metadata": {
  "kernelspec": {
   "display_name": "Python 3",
   "language": "python",
   "name": "python3"
  },
  "language_info": {
   "codemirror_mode": {
    "name": "ipython",
    "version": 3
   },
   "file_extension": ".py",
   "mimetype": "text/x-python",
   "name": "python",
   "nbconvert_exporter": "python",
   "pygments_lexer": "ipython3",
   "version": "3.7.0"
  }
 },
 "nbformat": 4,
 "nbformat_minor": 2
}
